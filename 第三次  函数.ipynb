{
 "cells": [
  {
   "cell_type": "markdown",
   "metadata": {},
   "source": [
    "# 函数\n",
    "- 代码的一种组织形式\n",
    "- 一个函数一般完成一项特定的功能\n",
    "- 函数使用\n",
    "    - 函数需要先定义\n",
    "    - 使用函数，俗称调用"
   ]
  },
  {
   "cell_type": "code",
   "execution_count": 7,
   "metadata": {
    "collapsed": true
   },
   "outputs": [],
   "source": [
    "# 定义一个函数\n",
    "# 只是定义并不会执行\n",
    "# 函数名，自己定义，起名需要遵循便令命名规则，与欸的那个俗称，不能使用大驼峰命名规则\n",
    "# 括号和冒号不能省\n",
    "# 函数内所有代码缩进\n",
    "def func():\n",
    "    print(\"我是个一个函数\")\n",
    "    print(\"结束了\")"
   ]
  },
  {
   "cell_type": "code",
   "execution_count": 8,
   "metadata": {},
   "outputs": [
    {
     "name": "stdout",
     "output_type": "stream",
     "text": [
      "我是个一个函数\n",
      "结束了\n"
     ]
    }
   ],
   "source": [
    "func()#函数的调用 "
   ]
  },
  {
   "cell_type": "markdown",
   "metadata": {},
   "source": [
    "### 函数的参数和返回值\n",
    "- 参数： 负责给函数传递一些必要的数据或者信息\n",
    "    - 形参（形式参数）：在函数定义的时候用到的参数没有具体值，只是一个占位的符号，成为形参\n",
    "    - 实参（实际参数）：在调用函数的时候输入的值\n",
    "- 返回值： 函数的执行结果\n",
    "    - 使用return关键字\n",
    "    - 如果没有return，默认返回一个None\n",
    "    - 函数一旦执行到return，则无条件返回，即结束函数的执行"
   ]
  },
  {
   "cell_type": "code",
   "execution_count": 15,
   "metadata": {},
   "outputs": [
    {
     "name": "stdout",
     "output_type": "stream",
     "text": [
      "高一涵,你怎么了\n",
      "sir,你不理我我就走了\n"
     ]
    }
   ],
   "source": [
    "# 参数的定义和使用\n",
    "# person只是一个符号，代表的是调用的时候的某个一数据\n",
    "# 调用的时候，会用P的值代替函数中的所有person\n",
    "def hello(person):\n",
    "    print(\"{0},你怎么了\".format(person))\n",
    "    print(\"sir,你不理我我就走了\")、\n",
    "    \n",
    "p = \"高一涵\"\n",
    "hello(p)"
   ]
  },
  {
   "cell_type": "code",
   "execution_count": 18,
   "metadata": {
    "scrolled": true
   },
   "outputs": [
    {
     "name": "stdout",
     "output_type": "stream",
     "text": [
      "高一涵,你怎么了\n",
      "sir,你不理我我就走了\n"
     ]
    },
    {
     "data": {
      "text/plain": [
       "'我已经和高一涵打过招呼了，高一涵还是不理我'"
      ]
     },
     "execution_count": 18,
     "metadata": {},
     "output_type": "execute_result"
    }
   ],
   "source": [
    "#打完招呼返回一句话\n",
    "def hello(person):\n",
    "    print(\"{0},你怎么了\".format(person))\n",
    "    print(\"sir,你不理我我就走了\")\n",
    "    return \"我已经和{0}打过招呼了，{1}还是不理我\".format(person,person)\n",
    "p = \"高一涵\"\n",
    "hello(p)"
   ]
  },
  {
   "cell_type": "code",
   "execution_count": 22,
   "metadata": {},
   "outputs": [
    {
     "name": "stdout",
     "output_type": "stream",
     "text": [
      "高一涵,你怎么了\n",
      "haha,我提前结束了\n"
     ]
    }
   ],
   "source": [
    "# return  案例2\n",
    "def hello(person):\n",
    "    print(\"{0},你怎么了\".format(person))\n",
    "    return (\"haha,我提前结束了\")\n",
    "    print(\"sir,你不理我我就走了\")\n",
    "    return \n",
    "p = \"高一涵\"\n",
    "rst = hello(p)\n",
    "print(rst)"
   ]
  },
  {
   "cell_type": "code",
   "execution_count": 74,
   "metadata": {},
   "outputs": [
    {
     "name": "stdout",
     "output_type": "stream",
     "text": [
      "1x1=1\t\n",
      "2x1=2\t2x2=4\t\n",
      "3x1=3\t3x2=6\t3x3=9\t\n",
      "4x1=4\t4x2=8\t4x3=12\t4x4=16\t\n",
      "5x1=5\t5x2=10\t5x3=15\t5x4=20\t5x5=25\t\n",
      "6x1=6\t6x2=12\t6x3=18\t6x4=24\t6x5=30\t6x6=36\t\n",
      "7x1=7\t7x2=14\t7x3=21\t7x4=28\t7x5=35\t7x6=42\t7x7=49\t\n",
      "8x1=8\t8x2=16\t8x3=24\t8x4=32\t8x5=40\t8x6=48\t8x7=56\t8x8=64\t\n",
      "9x1=9\t9x2=18\t9x3=27\t9x4=36\t9x5=45\t9x6=54\t9x7=63\t9x8=72\t9x9=81\t\n",
      "Help on built-in function print in module builtins:\n",
      "\n",
      "print(...)\n",
      "    print(value, ..., sep=' ', end='\\n', file=sys.stdout, flush=False)\n",
      "    \n",
      "    Prints the values to a stream, or to sys.stdout by default.\n",
      "    Optional keyword arguments:\n",
      "    file:  a file-like object (stream); defaults to the current sys.stdout.\n",
      "    sep:   string inserted between values, default a space.\n",
      "    end:   string appended after the last value, default a newline.\n",
      "    flush: whether to forcibly flush the stream.\n",
      "\n"
     ]
    }
   ],
   "source": [
    "# 九九乘法表小程序的实现，妈耶！！！！！！！！\n",
    "for row in range(1,10):\n",
    "    a = row + 1\n",
    "    \n",
    "    for i in range(1,a):\n",
    "        res = i * row\n",
    "        print(\"{0}x{1}={2}\\t\".format(row,i,res), end='')#通过指定end参数的值，可以取消在末尾输出回车符，实现不换行\n",
    "    print()\n",
    "\n",
    "help(print)#帮助文档\n"
   ]
  },
  {
   "cell_type": "markdown",
   "metadata": {},
   "source": [
    "## 参数详解\n",
    "- 关于参数的详细介绍参考资料----　http://www.cnblogs.com/bingabcd/p/6671368.html\n",
    "- python :headfirst   零基础入门学Python（小甲鱼）  ---->习题可以考虑腾讯免费公开课\n",
    "- 参数分类\n",
    "    - 默认参数\n",
    "    - 普通参数\n",
    "    - 关键字参数\n",
    "    - 收集参数\n",
    "- 普通参数\n",
    "     - 见上面例子\n",
    "     - 定义的时候直接定义上去\n",
    "     - 使用的时候直接把变量或者值放入指定位置\n",
    "                  \n",
    "                  def 函数名  （参数1，参数2，参数3......）\n",
    "                      函数体\n",
    "                  #调用\n",
    "                      函数名(value1,value2,value3.... )\n",
    "- 默认参数\n",
    "     - 形参带有默认值\n",
    "     - 调用的时候，如果没有相应的形参数值，则使用默认值\n",
    "                     def func_name(p1=v1,p2=v2....):\n",
    "                         func_block\n",
    "                      \n",
    "                     \n",
    "                     #调用1\n",
    "                     func_name()\n",
    "                     #调用2\n",
    "                     value1 = 100\n",
    "                     value2 = 200\n",
    "                     func_name(value1,value2)\n",
    "- 关键字参数\n",
    "    - 语法\n",
    "        def func(p1=v1,p2=v2.......):\n",
    "            func_body\n",
    "        调用参数：\n",
    "        func（p1=value1,p2=value2......）\n",
    "    - 比较麻烦，但是好处是：\n",
    "        - 不容易混淆\n",
    "        - 一般形参和实参按照位置一一对应即可，容易出错，这种可以避免\n",
    "- 收集参数\n",
    "    - 把没有位置，不能和定义是的参数位置相对应的参数，放入一个特定的数据结构中\n",
    "    - 语法\n",
    "                        def func(*args):\n",
    "                           func body\n",
    "                           按照list的使用方式访问args得到传入的参数\n",
    "                        调用\n",
    "                        fun(p1,p2,p3....)\n",
    "                        \n",
    "     - 参数名 args不是必须这么写，但是我们推荐直接使用args，约定俗成\n",
    "     - 参数名args前需要时由星号\n",
    "     - 收集参数可以和其他参数共存"
   ]
  },
  {
   "cell_type": "code",
   "execution_count": 3,
   "metadata": {
    "collapsed": true
   },
   "outputs": [],
   "source": [
    "#默认参数示例\n",
    "def reg(name,age,gender=\"man\"):\n",
    "    if(gender == \"man\"):\n",
    "        print(\"{} is {},and he is a good student!\".format(name,age ))\n",
    "    else:\n",
    "        print(\"{} is {},and she is a likun's girlfirend，hey\".format(name,age))"
   ]
  },
  {
   "cell_type": "code",
   "execution_count": 92,
   "metadata": {},
   "outputs": [
    {
     "name": "stdout",
     "output_type": "stream",
     "text": [
      "李坤 is 21,and he is a good student!\n",
      "高一涵 is 20,and she is a likun's girlfirend，hey\n"
     ]
    }
   ],
   "source": [
    "reg(\"李坤\",21)\n",
    "reg(\"高一涵\",20,\"girl\")"
   ]
  },
  {
   "cell_type": "markdown",
   "metadata": {},
   "source": [
    "第八课时开始：函数篇完结"
   ]
  },
  {
   "cell_type": "code",
   "execution_count": 4,
   "metadata": {},
   "outputs": [
    {
     "name": "stdout",
     "output_type": "stream",
     "text": [
      "i am a student\n",
      "我叫高一涵，今年18岁，我住在我家\n"
     ]
    }
   ],
   "source": [
    "def func(name,age,addr):\n",
    "    print(\"i am a student\")\n",
    "    print(\"我叫{}，今年{}岁，我住在{}\".format(name,age,addr))\n",
    "n = \"高一涵\"\n",
    "a = 18\n",
    "addr = \"我家\"\n",
    "#普通参数，只是按照位置传递，容易出错\n",
    "func(n,a,addr)"
   ]
  },
  {
   "cell_type": "code",
   "execution_count": 7,
   "metadata": {},
   "outputs": [
    {
     "name": "stdout",
     "output_type": "stream",
     "text": [
      "i am a student\n",
      "我叫高一涵，今年19岁，我住在我家\n"
     ]
    }
   ],
   "source": [
    "#关键字参数示例\n",
    "def func_1(name=\"NO name\",age=19,addr=\"No addr\"):\n",
    "    print(\"i am a student\")\n",
    "    print(\"我叫{}，今年{}岁，我住在{}\".format(name,age,addr))\n",
    "n = \"高一涵\"\n",
    "a = 18\n",
    "addr = \"我家\"\n",
    "#普通参数，只是按照位置传递，容易出错\n",
    "func_1(name=n,addr=addr)"
   ]
  },
  {
   "cell_type": "code",
   "execution_count": 23,
   "metadata": {},
   "outputs": [
    {
     "name": "stdout",
     "output_type": "stream",
     "text": [
      "你们好\n",
      "<class 'tuple'>\n",
      "likun18fddfd你们好\n",
      "<class 'tuple'>\n",
      "高一涵"
     ]
    }
   ],
   "source": [
    "# 收集参数代码\n",
    "# 函数模拟一个学生进行自我介绍，但是具体内容不清楚\n",
    "# args把他看作是一个list（并不是特别严谨，但是易理解）\n",
    "def stu(*args):\n",
    "    pass\n",
    "    print(\"你们好\")\n",
    "    #type函数作用是检测变量类型\n",
    "    print(type(args))\n",
    "    for item in args:\n",
    "        print(item ,end='')\n",
    "stu(\"likun\",18,\"fddfd\")\n",
    "stu(\"高一涵\")\n"
   ]
  },
  {
   "cell_type": "markdown",
   "metadata": {},
   "source": [
    "### 收集参数之关键字收集参数\n",
    "- 把关键字参数案子点合适存入收集参数\n",
    "- 专门收集关键字参数的收集参数  上个例子中只能收集普通参数\n",
    "\n",
    "                    def func(**kwargs):\n",
    "                      func_body\n",
    "                    \n",
    "                    #调用\n",
    "                    func(p1=v1,p2=v2.....)\n",
    "            \n",
    "            "
   ]
  },
  {
   "cell_type": "code",
   "execution_count": 36,
   "metadata": {},
   "outputs": [
    {
     "name": "stdout",
     "output_type": "stream",
     "text": [
      "即将访问字典了\n",
      "<class 'dict'>\n",
      "name --- 高一涵\n",
      "age --- 19\n",
      "addr --- 保定\n",
      "--------------------\n"
     ]
    }
   ],
   "source": [
    "#关键字收集参数案例\n",
    "#调用的时候需要使用关键字参数\n",
    "def stu(**kwargs):\n",
    "    pass\n",
    "    print(\"即将访问字典了\")\n",
    "    print(type(kwargs))\n",
    "    for it,i in kwargs.items():#items（）方法用于返回字典dict的(key，value)元组对的列表\n",
    "        print(it,\"---\",i)\n",
    "stu(name=\"高一涵\",age=19,addr=\"保定\")\n",
    "print(\"-\"*20)#20个括号中的字符"
   ]
  },
  {
   "cell_type": "markdown",
   "metadata": {},
   "source": [
    "### 收集参数混合调用的顺序问题\n",
    "- 收集参数，关键字参数，普通参数可以混合使用\n",
    "- 使用规则就是，普通参数和关键字参数有限\n",
    "- 定义的时候一般是找普通参数，竿见自参数，收集参数tuple，收集参数dict"
   ]
  },
  {
   "cell_type": "code",
   "execution_count": 67,
   "metadata": {},
   "outputs": [
    {
     "name": "stdout",
     "output_type": "stream",
     "text": [
      "hello 大家好\n",
      "我叫高一涵，今年19岁，\n",
      "我没有爱好\n",
      "----------------------------------------\n",
      "hello 大家好\n",
      "我叫高一涵，今年19岁，\n",
      "我的爱好是游泳\n",
      "----------------------------------------\n",
      "hello 大家好\n",
      "我叫高一涵，今年19岁，\n",
      "我的爱好是学高数\n",
      "咚咚\n",
      "嘿嘿\n",
      "hobby2 ---- 吃饭\n",
      "hobby3 ---- 跟不同女生聊天\n",
      "----------------------------------------\n"
     ]
    }
   ],
   "source": [
    "# 收集参数混合调用案例\n",
    "# stu模拟一个学生的自我介绍\n",
    "def stu(name,age,*arg,hobby=\"没有\",**args):#*arg的位置放在普通参数的后面\n",
    "    print(\"hello 大家好\")\n",
    "    print(\"我叫{}，今年{}岁，\".format(name,age))\n",
    "    if hobby == \"没有\":\n",
    "        print(\"我没有爱好\")\n",
    "    else:\n",
    "        print(\"我的爱好是{}\".format(hobby))\n",
    "    \n",
    "    for i in arg:\n",
    "        print(i)\n",
    "    for k ,v in args.items():\n",
    "        print(k,\"----\",v)\n",
    "    print(\"-\"*40)\n",
    "        \n",
    "name = \"高一涵\"\n",
    "age = 19\n",
    "#调用的不同方式\n",
    "stu(name,age)\n",
    "\n",
    "stu(name,age,hobby=\"游泳\")\n",
    "\n",
    "stu(name,age,\"咚咚\",\"嘿嘿\",hobby=\"学高数\",hobby2=\"吃饭\",hobby3=\"跟不同女生聊天\")"
   ]
  },
  {
   "cell_type": "markdown",
   "metadata": {},
   "source": [
    "### 收集参数的解包问题\n",
    "- 把参数放入list或者字典中，直接把list/dict中的值放入收集参数中\n",
    "- 语法：参看案例"
   ]
  },
  {
   "cell_type": "code",
   "execution_count": 72,
   "metadata": {},
   "outputs": [
    {
     "name": "stdout",
     "output_type": "stream",
     "text": [
      "ahahhaha\n",
      "<class 'str'>\n",
      "liming\n",
      "1\n",
      "<class 'str'>\n",
      "dfdfd\n",
      "2\n",
      "<class 'int'>\n",
      "19\n",
      "3\n",
      "<class 'int'>\n",
      "33\n",
      "4\n",
      "<class 'int'>\n",
      "45\n",
      "5\n",
      "----------------------------------------\n",
      "ahahhaha\n",
      "<class 'list'>\n",
      "['ddddddddd', 3]\n",
      "1\n",
      "----------------------------------------\n"
     ]
    }
   ],
   "source": [
    "#收集参数的解包问题\n",
    "def stu(*args):\n",
    "    print(\"ahahhaha\")\n",
    "    n = 0;\n",
    "    for i in args:\n",
    "        print(type(i))\n",
    "        print(i)\n",
    "        n +=1\n",
    "        print(n)\n",
    "    print(\"-\"*40)\n",
    "stu(\"liming\",\"dfdfd\",19,33,45)\n",
    "l =list()\n",
    "l.append(\"ddddddddd\")\n",
    "l.append(3)\n",
    "stu(l)  #在输出的时候根据结果很明显函数啊l当成了一个值打印了出来"
   ]
  },
  {
   "cell_type": "code",
   "execution_count": 76,
   "metadata": {},
   "outputs": [
    {
     "name": "stdout",
     "output_type": "stream",
     "text": [
      "有返回值\n",
      "1\n",
      "没有自定义返回值\n",
      "None\n"
     ]
    }
   ],
   "source": [
    "#返回值示例\n",
    "def func_1():\n",
    "    print(\"有返回值\")\n",
    "    return 1\n",
    "\n",
    "def func_2():\n",
    "    print(\"没有自定义返回值\")\n",
    "    #即使没有返回值也会默认出一个返回值None，函数必有返回值\n",
    "    \n",
    "f1 = func_1()\n",
    "print(f1)\n",
    "\n",
    "f2 = func_2()\n",
    "print(f2)"
   ]
  },
  {
   "cell_type": "markdown",
   "metadata": {},
   "source": [
    "## 函数文档\n",
    "- 函数的文档的作用是对当前函数提供相关的参考信息\n",
    "- 文档的写法\n",
    "    - 在函数内部开始的第一行使用三字符串定义符\n",
    "    - 一般具有特定格式\n",
    "    - 参看案例\n",
    "- 文档查看\n",
    "    - 使用help函数，形如help（func）"
   ]
  },
  {
   "cell_type": "code",
   "execution_count": 85,
   "metadata": {
    "collapsed": true
   },
   "outputs": [],
   "source": [
    "def stu(name,age,*args):\n",
    "    #   '这是文档'     这个是单行的\n",
    "    '''\n",
    "    第一行\n",
    "    第二行\n",
    "    第三行\n",
    "    '''\n",
    "    print(\"this is 007\")"
   ]
  },
  {
   "cell_type": "code",
   "execution_count": 86,
   "metadata": {
    "scrolled": true
   },
   "outputs": [
    {
     "name": "stdout",
     "output_type": "stream",
     "text": [
      "Help on function stu in module __main__:\n",
      "\n",
      "stu(name, age, *args)\n",
      "    第一行\n",
      "    第二行\n",
      "    第三行\n",
      "\n"
     ]
    },
    {
     "data": {
      "text/plain": [
       "'\\n    第一行\\n    第二行\\n    第三行\\n    '"
      ]
     },
     "execution_count": 86,
     "metadata": {},
     "output_type": "execute_result"
    }
   ],
   "source": [
    "help(stu)\n",
    "stu.__doc__# 两个下划线"
   ]
  },
  {
   "cell_type": "markdown",
   "metadata": {},
   "source": [
    "函数的作用域和集合列表字典元祖"
   ]
  },
  {
   "cell_type": "markdown",
   "metadata": {},
   "source": [
    "## 变量的作用域            含着热泪学一遍这些有的没得，希望遇到新的知识点\n",
    "- 变量的作用域范围限制\n",
    "- 分类：\n",
    "    - 全局变量（global）：在函数外部定义\n",
    "    - 局部（local）：在函数内部定义\n",
    "- 变量的作用范围\n",
    "    - 全局变量：在整个全局范围内都有效\n",
    "    - 全局变量在实际情况下尽量不全部代码使用全局变量，函数内部也可以使用全局变量\n",
    "    - 局部变量局部范围可以使用\n",
    "    - 局部变量在全局范围无法使用\n",
    "- LEGB原则\n",
    "    - L (local):局部作用域\n",
    "    - E（enclosing function locale）外部嵌套函数作用域\n",
    "    - G（Global module）函数定义坐在模块作用域\n",
    "    - B（Buildin）Python内置模块的作用域\n",
    "    "
   ]
  },
  {
   "cell_type": "code",
   "execution_count": 5,
   "metadata": {},
   "outputs": [
    {
     "name": "stdout",
     "output_type": "stream",
     "text": [
      "100\n",
      "我是一个函数\n",
      "88\n"
     ]
    }
   ],
   "source": [
    "#示例\n",
    "a = 100\n",
    "def fun():\n",
    "    print(a)\n",
    "    print(\"我是一个函数\")\n",
    "    a1 = 88\n",
    "    print(a1)\n",
    "fun()\n"
   ]
  },
  {
   "cell_type": "markdown",
   "metadata": {},
   "source": [
    "## 提升局部变量为全局变量\n",
    "- 使用global\n",
    "- 案例如下："
   ]
  },
  {
   "cell_type": "code",
   "execution_count": 9,
   "metadata": {},
   "outputs": [
    {
     "name": "stdout",
     "output_type": "stream",
     "text": [
      "100\n",
      "我是一个函数\n",
      "88\n",
      "66\n",
      "66\n"
     ]
    }
   ],
   "source": [
    "#示例\n",
    "\n",
    "def fun():\n",
    "    a1 = 88\n",
    "    print(a1)\n",
    "    \n",
    "    global a2  #使用global使函数内部的变量变为全局变量\n",
    "    a2 = 66\n",
    "    print(a2)\n",
    "    \n",
    "fun()\n",
    "print(a2)"
   ]
  },
  {
   "cell_type": "markdown",
   "metadata": {},
   "source": [
    "## global，locals函数\n",
    "- 可以通过global和local显示出局部变量和全局变量\n",
    "- 参看一下案例"
   ]
  },
  {
   "cell_type": "code",
   "execution_count": 12,
   "metadata": {},
   "outputs": [
    {
     "name": "stdout",
     "output_type": "stream",
     "text": [
      "locals={'e': 111, 'd': 200, 'c': 100}\n",
      "Globals={'__name__': '__main__', '__doc__': 'Automatically created module for IPython interactive environment', '__package__': None, '__loader__': None, '__spec__': None, '__builtin__': <module 'builtins' (built-in)>, '__builtins__': <module 'builtins' (built-in)>, '_ih': ['', '函数的作用域和集合列表字典元祖', '#示例\\na = 100\\ndef fun():\\n    print(a)', '#示例\\na = 100\\ndef fun():\\n    print(a)\\n    print(\"我是一个函数\")\\n    a1 = 88\\n    print(a1)\\nfun()', '#示例\\na = 100\\ndef fun():\\n    print(a)\\n    print(\"我是一个函数\")\\n    a1 = 88\\n    print(a1)\\nfun()\\nprint(a1)', '#示例\\na = 100\\ndef fun():\\n    print(a)\\n    print(\"我是一个函数\")\\n    a1 = 88\\n    print(a1)\\nfun()', '#示例\\na = 100\\ndef fun():\\n    print(a)\\n    print(\"我是一个函数\")\\n    a1 = 88\\n    print(a1)\\nfun()', '#示例\\na = 100\\ndef fun():\\n    print(a)\\n    print(\"我是一个函数\")\\n    a1 = 88\\n    print(a1)\\n    global a2 = 66\\n    print(a2)\\nfun()', '#示例\\na = 100\\ndef fun():\\n    print(a)\\n    print(\"我是一个函数\")\\n    a1 = 88\\n    print(a1)\\n    global a2 \\n    a2 = 66\\n    print(a2)\\nfun()', '#示例\\na = 100\\ndef fun():\\n    print(a)\\n    print(\"我是一个函数\")\\n    a1 = 88\\n    print(a1)\\n    global a2 \\n    a2 = 66\\n    print(a2)\\nfun()\\nprint(a2)', '# global 和locals\\na = 1\\nb = 2\\ndef fun(c,d):\\n    e = 111\\n    ', '# global 和locals\\na = 1\\nb = 2\\ndef fun(c,d):\\n    e = 111\\n    print(\"locals={}\".format(locals()))\\n    print(\"Globals={}\".format(globals()))\\nfun()\\n    ', '# global 和locals\\na = 1\\nb = 2\\ndef fun(c,d):\\n    e = 111\\n    print(\"locals={}\".format(locals()))\\n    print(\"Globals={}\".format(globals()))\\nfun(100,200)\\n    '], '_oh': {}, '_dh': ['/home/tlxy/555'], 'In': ['', '函数的作用域和集合列表字典元祖', '#示例\\na = 100\\ndef fun():\\n    print(a)', '#示例\\na = 100\\ndef fun():\\n    print(a)\\n    print(\"我是一个函数\")\\n    a1 = 88\\n    print(a1)\\nfun()', '#示例\\na = 100\\ndef fun():\\n    print(a)\\n    print(\"我是一个函数\")\\n    a1 = 88\\n    print(a1)\\nfun()\\nprint(a1)', '#示例\\na = 100\\ndef fun():\\n    print(a)\\n    print(\"我是一个函数\")\\n    a1 = 88\\n    print(a1)\\nfun()', '#示例\\na = 100\\ndef fun():\\n    print(a)\\n    print(\"我是一个函数\")\\n    a1 = 88\\n    print(a1)\\nfun()', '#示例\\na = 100\\ndef fun():\\n    print(a)\\n    print(\"我是一个函数\")\\n    a1 = 88\\n    print(a1)\\n    global a2 = 66\\n    print(a2)\\nfun()', '#示例\\na = 100\\ndef fun():\\n    print(a)\\n    print(\"我是一个函数\")\\n    a1 = 88\\n    print(a1)\\n    global a2 \\n    a2 = 66\\n    print(a2)\\nfun()', '#示例\\na = 100\\ndef fun():\\n    print(a)\\n    print(\"我是一个函数\")\\n    a1 = 88\\n    print(a1)\\n    global a2 \\n    a2 = 66\\n    print(a2)\\nfun()\\nprint(a2)', '# global 和locals\\na = 1\\nb = 2\\ndef fun(c,d):\\n    e = 111\\n    ', '# global 和locals\\na = 1\\nb = 2\\ndef fun(c,d):\\n    e = 111\\n    print(\"locals={}\".format(locals()))\\n    print(\"Globals={}\".format(globals()))\\nfun()\\n    ', '# global 和locals\\na = 1\\nb = 2\\ndef fun(c,d):\\n    e = 111\\n    print(\"locals={}\".format(locals()))\\n    print(\"Globals={}\".format(globals()))\\nfun(100,200)\\n    '], 'Out': {}, 'get_ipython': <bound method InteractiveShell.get_ipython of <ipykernel.zmqshell.ZMQInteractiveShell object at 0x7fe8bf7fa0f0>>, 'exit': <IPython.core.autocall.ZMQExitAutocall object at 0x7fe8b4182f98>, 'quit': <IPython.core.autocall.ZMQExitAutocall object at 0x7fe8b4182f98>, '_': '', '__': '', '___': '', '_i': '# global 和locals\\na = 1\\nb = 2\\ndef fun(c,d):\\n    e = 111\\n    print(\"locals={}\".format(locals()))\\n    print(\"Globals={}\".format(globals()))\\nfun()\\n    ', '_ii': '# global 和locals\\na = 1\\nb = 2\\ndef fun(c,d):\\n    e = 111\\n    ', '_iii': '#示例\\na = 100\\ndef fun():\\n    print(a)\\n    print(\"我是一个函数\")\\n    a1 = 88\\n    print(a1)\\n    global a2 \\n    a2 = 66\\n    print(a2)\\nfun()\\nprint(a2)', '_i1': '函数的作用域和集合列表字典元祖', '_i2': '#示例\\na = 100\\ndef fun():\\n    print(a)', 'a': 1, 'fun': <function fun at 0x7fe89bfc02f0>, '_i3': '#示例\\na = 100\\ndef fun():\\n    print(a)\\n    print(\"我是一个函数\")\\n    a1 = 88\\n    print(a1)\\nfun()', '_i4': '#示例\\na = 100\\ndef fun():\\n    print(a)\\n    print(\"我是一个函数\")\\n    a1 = 88\\n    print(a1)\\nfun()\\nprint(a1)', '_i5': '#示例\\na = 100\\ndef fun():\\n    print(a)\\n    print(\"我是一个函数\")\\n    a1 = 88\\n    print(a1)\\nfun()', '_i6': '#示例\\na = 100\\ndef fun():\\n    print(a)\\n    print(\"我是一个函数\")\\n    a1 = 88\\n    print(a1)\\nfun()', '_i7': '#示例\\na = 100\\ndef fun():\\n    print(a)\\n    print(\"我是一个函数\")\\n    a1 = 88\\n    print(a1)\\n    global a2 = 66\\n    print(a2)\\nfun()', '_i8': '#示例\\na = 100\\ndef fun():\\n    print(a)\\n    print(\"我是一个函数\")\\n    a1 = 88\\n    print(a1)\\n    global a2 \\n    a2 = 66\\n    print(a2)\\nfun()', 'a2': 66, '_i9': '#示例\\na = 100\\ndef fun():\\n    print(a)\\n    print(\"我是一个函数\")\\n    a1 = 88\\n    print(a1)\\n    global a2 \\n    a2 = 66\\n    print(a2)\\nfun()\\nprint(a2)', '_i10': '# global 和locals\\na = 1\\nb = 2\\ndef fun(c,d):\\n    e = 111\\n    ', 'b': 2, '_i11': '# global 和locals\\na = 1\\nb = 2\\ndef fun(c,d):\\n    e = 111\\n    print(\"locals={}\".format(locals()))\\n    print(\"Globals={}\".format(globals()))\\nfun()\\n    ', '_i12': '# global 和locals\\na = 1\\nb = 2\\ndef fun(c,d):\\n    e = 111\\n    print(\"locals={}\".format(locals()))\\n    print(\"Globals={}\".format(globals()))\\nfun(100,200)\\n    '}\n"
     ]
    }
   ],
   "source": [
    "# global 和locals\n",
    "a = 1\n",
    "b = 2\n",
    "def fun(c,d):\n",
    "    e = 111\n",
    "    print(\"locals={}\".format(locals()))\n",
    "    print(\"Globals={}\".format(globals()))\n",
    "fun(100,200)\n",
    "#下面全局变量什么尼玛玩意儿，呀ki啦你\n",
    "    "
   ]
  },
  {
   "cell_type": "markdown",
   "metadata": {},
   "source": [
    "# eval（）函数  和exec（）函数\n",
    "- 把一个字符串当成一个表达式来执行，返回表达式执行后的结果\n",
    "- 语法\n",
    "    - eval(string_code,globals-None,locals=None)\n",
    "- exec()和eval()函数类似但是不返回结果"
   ]
  },
  {
   "cell_type": "code",
   "execution_count": 22,
   "metadata": {},
   "outputs": [
    {
     "name": "stdout",
     "output_type": "stream",
     "text": [
      "x+y\n",
      "300\n",
      "None\n",
      "print('x+y',x+y)\n"
     ]
    }
   ],
   "source": [
    "#eval函数和exec的示例\n",
    "x = 100\n",
    "y = 200\n",
    "#执行x+y\n",
    "#z = x + y\n",
    "z = (\"x+y\")\n",
    "z1 = eval(\"x+y\")\n",
    "z2 = exec(\"x+y\")\n",
    "z3 = exec(\"print('x+y',x+y)\")\n",
    "print(z)\n",
    "print(z1)\n",
    "print(z2)\n",
    "print(z3)"
   ]
  },
  {
   "cell_type": "markdown",
   "metadata": {},
   "source": [
    "# 递归函数\n",
    "- 优点：简洁，理解容易\n",
    "- 缺点：对递归深度有限制，超过限制报，消耗资源大\n",
    "- Python对递归的限制"
   ]
  },
  {
   "cell_type": "code",
   "execution_count": 44,
   "metadata": {},
   "outputs": [
    {
     "name": "stdout",
     "output_type": "stream",
     "text": [
      "1 2 3 4 5 6 7 8 9 10 11 12 13 14 15 16 17 18 19 20 "
     ]
    }
   ],
   "source": [
    "#递归调用深度限制代码\n",
    "x = 0\n",
    "def fun():\n",
    "    \n",
    "        global x\n",
    "        while x <20:\n",
    "            x +=1\n",
    "            print(x,end=\"\")\n",
    "            print(\" \",end=\"\")\n",
    "            #再次调用自己\n",
    "            fun()\n",
    "        \n",
    "        \n",
    "fun()"
   ]
  },
  {
   "cell_type": "code",
   "execution_count": 45,
   "metadata": {},
   "outputs": [
    {
     "name": "stdout",
     "output_type": "stream",
     "text": [
      "请输入你想知道斐波那契的第几个数字：6\n"
     ]
    },
    {
     "data": {
      "text/plain": [
       "8"
      ]
     },
     "execution_count": 45,
     "metadata": {},
     "output_type": "execute_result"
    }
   ],
   "source": [
    "# 斐波那契数列\n",
    "# 一列数字，第一个值是1，第二个也是1，从第三个数字的值开始等于前两个数字出现的值的和\n",
    "# 数学公式是：f(1)=1  f(2)=1 f(n)= f(n-1)=f(n-2)\n",
    "# 例如：1,1,2,3,5,8.........\n",
    "#n表示第N个数字的值\n",
    "def fib(n):\n",
    "    if n == 1:\n",
    "        return 1\n",
    "    if n == 2:\n",
    "        return 1\n",
    "    else:\n",
    "        return fib(n-1)+fib(n-2)\n",
    "a = input(\"请输入你想知道斐波那契的第几个数字：\")#传过来是字符串类型\n",
    "a = int(a)\n",
    "fib(a)"
   ]
  }
 ],
 "metadata": {
  "kernelspec": {
   "display_name": "Python 3",
   "language": "python",
   "name": "python3"
  },
  "language_info": {
   "codemirror_mode": {
    "name": "ipython",
    "version": 3
   },
   "file_extension": ".py",
   "mimetype": "text/x-python",
   "name": "python",
   "nbconvert_exporter": "python",
   "pygments_lexer": "ipython3",
   "version": "3.6.3"
  }
 },
 "nbformat": 4,
 "nbformat_minor": 2
}
