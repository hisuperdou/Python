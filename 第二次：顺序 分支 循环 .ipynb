{
 "cells": [
  {
   "cell_type": "markdown",
   "metadata": {
    "collapsed": true
   },
   "source": [
    "第6课时"
   ]
  },
  {
   "cell_type": "markdown",
   "metadata": {},
   "source": [
    "# 分支\n",
    "- 双向分支：\n",
    "            \n",
    "            if 条件表达式:\n",
    "               语句1\n",
    "               语句2\n",
    "               语句3\n",
    "               ......\n",
    "            else:\n",
    "               语句1\n",
    "               语句2\n",
    "               .......\n",
    "- 条件表达式就是计算结果必须为布尔值的表达式\n",
    "- Python中没有大括号，只有缩进块\n",
    "- 表达式后面的冒号不能少\n",
    "- 注意if之后的的语句，如果属于if语句块，则必须到同一个缩进等级\n",
    "- 条件表达式结果为True执行if后面的缩进的语句块"
   ]
  },
  {
   "cell_type": "code",
   "execution_count": null,
   "metadata": {
    "collapsed": true
   },
   "outputs": [],
   "source": [
    "# if语句练习\n",
    "# 如果age小于18岁，打印一句话-----------------双向分支示例\n",
    "age = 19\n",
    "if age < 18:\n",
    "    print(\"滚蛋\")\n",
    "    print(\"滚\")\n",
    "    print(\"呀ki啦你\")\n",
    "else:\n",
    "    print(\"你可以留下1\")\n",
    "print(\"你可以留下\")\n",
    " "
   ]
  },
  {
   "cell_type": "code",
   "execution_count": null,
   "metadata": {
    "collapsed": true
   },
   "outputs": [],
   "source": [
    "# input 1.在屏幕上输出括号内的字符串  2.接受用户输入的内容并返回程序 3.input返回的内容一定是字符串类型\n",
    "\n",
    "\n",
    "gender = input(\"请输出性别：\")\n",
    "\n",
    "print(\"你输入的性别是:{0}\".format(gender))\n",
    "if gender == \"man\":\n",
    "    print(\"今天又是充满希望的一天\")\n",
    "else:\n",
    "    print(\"凉凉\")\n",
    "print(\"开始上课吧\")\n",
    "\n"
   ]
  },
  {
   "cell_type": "code",
   "execution_count": 4,
   "metadata": {},
   "outputs": [
    {
     "name": "stdout",
     "output_type": "stream",
     "text": [
      "请输入分数：0\n",
      "C\n"
     ]
    }
   ],
   "source": [
    "#考试成绩判断\n",
    "#根据成绩的高低分出等级\n",
    "#在Python中并不使用else if  而是使用elif，elif可以有无限多个，else可有可无\n",
    "score = input(\"请输入分数：\")\n",
    "score = int(score)   #转成数字类型\n",
    "if score > 90 and score !=0:\n",
    "    print(\"A\")\n",
    "elif score > 80:\n",
    "    print(\"B\")\n",
    "else:\n",
    "    print(\"C\")"
   ]
  },
  {
   "cell_type": "markdown",
   "metadata": {
    "collapsed": true
   },
   "source": [
    "# 循环语句\n",
    "- 重复执行某些固定的动作或者处理基本固定的事物\n",
    "- 分类\n",
    "    - for循环\n",
    "        - for 变量 in 序列：\n",
    "            语句1\n",
    "            语句2\n",
    "            ...\n",
    "    - while循环\n",
    "        "
   ]
  },
  {
   "cell_type": "code",
   "execution_count": 14,
   "metadata": {},
   "outputs": [
    {
     "name": "stdout",
     "output_type": "stream",
     "text": [
      "张三\n",
      "您好\n",
      "李四\n",
      "您好\n",
      "王五\n",
      "你个吊毛王五\n",
      "马六\n",
      "您好\n"
     ]
    }
   ],
   "source": [
    "#列表就是一列数字或者其他的值，一般用中括号表示\n",
    "#例如['张三','李四','王五','马六']\n",
    "for name in ['张三','李四','王五','马六']:\n",
    "    print(name)\n",
    "    if name == \"王五\":\n",
    "        print(\"你个吊毛{0}\".format(name))\n",
    "    else:\n",
    "        print(\"您好\")"
   ]
  },
  {
   "cell_type": "markdown",
   "metadata": {
    "collapsed": true
   },
   "source": [
    "## range介绍\n",
    "- 生成一个数字序列\n",
    "- 具体范围可以设定"
   ]
  },
  {
   "cell_type": "code",
   "execution_count": 18,
   "metadata": {},
   "outputs": [
    {
     "name": "stdout",
     "output_type": "stream",
     "text": [
      "1\n",
      "2\n",
      "3\n",
      "4\n",
      "5\n",
      "6\n",
      "7\n",
      "8\n",
      "9\n"
     ]
    }
   ],
   "source": [
    "#注意了，在Python中，如果表示数字范围的两个数，一般是包含左边数字不包含右边数字\n",
    "#randint是一个特例，它左右都包括\n",
    "#range在Python2和Python3中有严重区别\n",
    "\n",
    "for i in range(1,10):\n",
    "    print(i)"
   ]
  },
  {
   "cell_type": "markdown",
   "metadata": {},
   "source": [
    "## for else语句 ; for循环之break，continue，pass\n",
    "- break ：无条件结束整个循环\n",
    "- continue:无条件结束本次循环，进入下一轮循环\n",
    "- pass：表示略过,占位符"
   ]
  },
  {
   "cell_type": "code",
   "execution_count": 23,
   "metadata": {},
   "outputs": [
    {
     "name": "stdout",
     "output_type": "stream",
     "text": [
      "1\n",
      "不是你\n",
      "2\n",
      "不是你\n",
      "3\n",
      "不是你\n",
      "4\n",
      "遇到了4啊啊啊啊啊\n"
     ]
    }
   ],
   "source": [
    "for i in range(1,10):\n",
    "    print(i)\n",
    "    if i == 4:\n",
    "        print(\"遇到了4啊啊啊啊啊\")\n",
    "        break\n",
    "    else :\n",
    "        print(\"不是你\")\n",
    "else:\n",
    "    print(\"拜拜\")"
   ]
  },
  {
   "cell_type": "code",
   "execution_count": 33,
   "metadata": {},
   "outputs": [
    {
     "name": "stdout",
     "output_type": "stream",
     "text": [
      "找到这个偶数是了2\n",
      "找到这个偶数是了4\n",
      "找到这个偶数是了6\n",
      "找到这个偶数是了8\n",
      "找到这个偶数是了10\n"
     ]
    }
   ],
   "source": [
    "#找到偶数，一旦找到就退出，打印出来\n",
    "for i in range(1,11):\n",
    "    if i % 2 == 0:\n",
    "        print(\"找到这个偶数是了{0}\".format(i))"
   ]
  },
  {
   "cell_type": "code",
   "execution_count": null,
   "metadata": {
    "collapsed": true
   },
   "outputs": [],
   "source": [
    "#pass例子,占位免得语法错误不需要实现，并不影响其他代码运行\n",
    "for i in range(1,10):\n",
    "    pass"
   ]
  },
  {
   "cell_type": "markdown",
   "metadata": {},
   "source": [
    "下一课时为第七课时 while语句"
   ]
  }
 ],
 "metadata": {
  "kernelspec": {
   "display_name": "Python 3",
   "language": "python",
   "name": "python3"
  },
  "language_info": {
   "codemirror_mode": {
    "name": "ipython",
    "version": 3
   },
   "file_extension": ".py",
   "mimetype": "text/x-python",
   "name": "python",
   "nbconvert_exporter": "python",
   "pygments_lexer": "ipython3",
   "version": "3.6.5"
  }
 },
 "nbformat": 4,
 "nbformat_minor": 2
}
