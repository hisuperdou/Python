{
 "cells": [
  {
   "cell_type": "markdown",
   "metadata": {},
   "source": [
    "# 我的男枪会超神啊\n",
    "你知道吗\n",
    "\n",
    "\n",
    "\n",
    "‘’‘\n",
    "\n",
    "两个引号内的内容全部注释掉-------块注释\n",
    "\n",
    "’‘’\n"
   ]
  },
  {
   "cell_type": "code",
   "execution_count": 2,
   "metadata": {
    "scrolled": true
   },
   "outputs": [
    {
     "name": "stdout",
     "output_type": "stream",
     "text": [
      "hello world\n"
     ]
    }
   ],
   "source": [
    "#注释 --------------------------行注释\n",
    "print(\"hello world\")"
   ]
  },
  {
   "cell_type": "markdown",
   "metadata": {
    "collapsed": true
   },
   "source": [
    "# 变量\n",
    "- 程序=数据结构+算法\n",
    "- 变量就是一个可以重复使用的量，或者叫一个代号\n",
    "- 变量的命名规则\n",
    "    - 变量命名可以包含数字，大小写字母，下划线或者更多，但是不推荐除了前三种之外的符号\n",
    "    - 数字不可以打头，\n",
    "         - 4man 不行\n",
    "         - man4 可以\n",
    "    - 一般在Python中，以下划线开头的内容具有特殊含义，不建议使用\n",
    "         - 比如 _age, _name 理论可以但是强烈不推荐，包括但是不限于一个下划线开头和两个下划线开头\n",
    "    - 大小写不一样，大小写敏感\n",
    "    - 推荐\n",
    "         - 使用具有固定含义的的英文单词或者缩写， srv=server  skt=socket    用poslx命名发\n",
    "         - 颓风命名法\n",
    "         \n",
    "           - 名称一单词自动链接，且每个单词首字母大写\n",
    "             - 大驼峰 ，每个单词带个字母大写\n",
    "                - 在Python中给类命名一般使用此法\n",
    "                - 例子：MyFirstName\n",
    "             - 小驼峰 ，首个单词字母小写\n",
    "                - 在Python中给变量和函数命名\n",
    "                - 例子：myFirstName \n",
    "             - poslx写法\n",
    "                - 多个单词用下划线链接\n",
    "                - 单词全部小写\n",
    "                - 例子：my_first_name\n",
    "                time:      51:12\n",
    "     - 保留字和关键字\n",
    "         - class, def ,break, for  变量命名必须注意"
   ]
  },
  {
   "cell_type": "code",
   "execution_count": null,
   "metadata": {
    "collapsed": true
   },
   "outputs": [],
   "source": []
  },
  {
   "cell_type": "code",
   "execution_count": 1,
   "metadata": {},
   "outputs": [
    {
     "name": "stdout",
     "output_type": "stream",
     "text": [
      "['False', 'None', 'True', 'and', 'as', 'assert', 'break', 'class', 'continue', 'def', 'del', 'elif', 'else', 'except', 'finally', 'for', 'from', 'global', 'if', 'import', 'in', 'is', 'lambda', 'nonlocal', 'not', 'or', 'pass', 'raise', 'return', 'try', 'while', 'with', 'yield']\n"
     ]
    }
   ],
   "source": [
    "#查看关键字的方法\n",
    "import keyword  #引入关键字模块\n",
    "print(keyword.kwlist)"
   ]
  },
  {
   "cell_type": "markdown",
   "metadata": {},
   "source": [
    "## 变量的声明\n",
    " -三种赋值\n",
    "         - var_name=var_value\n",
    "         - var1=var2=var3=var_value\n",
    "         - var1,var2,var3=v1,v2,v3"
   ]
  },
  {
   "cell_type": "code",
   "execution_count": 4,
   "metadata": {},
   "outputs": [
    {
     "name": "stdout",
     "output_type": "stream",
     "text": [
      "18\n",
      "18\n",
      "20\n",
      "20\n",
      "22\n",
      "24\n"
     ]
    }
   ],
   "source": [
    "age = 18\n",
    "print(age)\n",
    "print(18)\n",
    "#第二种赋值\n",
    "age1 = age2 = age3 = 20\n",
    "print(age1)\n",
    "print(age3)\n",
    "#第三种赋值\n",
    "age4,age5=22,24\n",
    "print(age4)\n",
    "print(age5)\n"
   ]
  },
  {
   "cell_type": "markdown",
   "metadata": {},
   "source": [
    "## 变量类型\n",
    " -严格意义上讲，Python只有一个类型\n",
    " -标准数据有六种\n",
    "       - 数字类型Number\n",
    "       - 字符串类型str\n",
    "       -列表list\n",
    "       -元组tuple\n",
    "       -字典Dictionary\n",
    "       -集合 set"
   ]
  },
  {
   "cell_type": "markdown",
   "metadata": {},
   "source": [
    "## Number数字类型\n",
    "- 没有大小限制\n",
    "### 整数、\n",
    "   \n",
    "   - 没有小数部分，表示个数的数字\n",
    "   - 自然数，0，负自然数\n",
    "   - 整数分进制\n",
    "        - 二进制\n",
    "             - 计算机常用\n",
    "             - 计算机唯一能理解的数字\n",
    "             - 表示以0b开头的0,1代码\n",
    "             - 例如0b01101,0b10001\n",
    "             \n",
    "        - 八进制\n",
    "             - 不常用\n",
    "             - 0o开头\n",
    "        - 十六进制\n",
    "             - 四个二进制可以用一个十六进制的数表示\n",
    "             - 包含 0-9 a-f\n",
    "             - 数字以0x开头\n",
    "        - 十进制\n",
    "### 浮点数\n",
    "- 小数\n",
    "- 计算机里面表示浮点数可以有条件省略\n",
    "    - 3.1415\n",
    "    - 3.\n",
    "    - 0.5\n",
    "    - .5\n",
    "- 科学计数法\n",
    "    - 写法是用e/E后面跟整数表示10的指数\n",
    "    - 176.23=1.7623e2\n",
    "    - 0.833=8.33e-1\n",
    "### 复数\n",
    "- 定义与数学一致\n",
    "- 一个由实部和虚部构成的数字\n",
    "- 虚部用j/J表示\n",
    "- 5+3j\n",
    "- 3j\n",
    "- (3j)\n",
    "### 布尔值\n",
    "- True False  0 1  \n",
    "- 可以跟数字直接操作\n",
    "- T 和 F 必须大写\n",
    "\n",
    "## 字符串\n",
    "- 表示遗传文字信息\n",
    "- 任何表示\n",
    "   - 单引号\n",
    "   - 双引号\n",
    "   - 三引号（单个单引号或者三个双引号）\n",
    "        - 能扩起多行信息\n",
    "- 两种并没有明显区别，单双引号可以交替使用用来显示区别"
   ]
  },
  {
   "cell_type": "code",
   "execution_count": 15,
   "metadata": {},
   "outputs": [
    {
     "name": "stdout",
     "output_type": "stream",
     "text": [
      "66\n",
      "159\n",
      "134.33\n",
      "0.5\n",
      "19\n"
     ]
    }
   ],
   "source": [
    "age = 0o102\n",
    "print(age)\n",
    "age1 = 0x9f\n",
    "print(age1)\n",
    "height = 134.33\n",
    "print(height)\n",
    "eye = .5\n",
    "print(eye)\n",
    "myage = 18 + True\n",
    "print(myage)"
   ]
  },
  {
   "cell_type": "code",
   "execution_count": 26,
   "metadata": {},
   "outputs": [
    {
     "name": "stdout",
     "output_type": "stream",
     "text": [
      "我爱高一涵\n"
     ]
    }
   ],
   "source": [
    "str = \"我爱高一涵\"\n",
    "print(str)\n"
   ]
  },
  {
   "cell_type": "code",
   "execution_count": 28,
   "metadata": {},
   "outputs": [
    {
     "name": "stdout",
     "output_type": "stream",
     "text": [
      "\n",
      "尽管派对热闹非凡，但是全场的蕉点依然是那个自由的男人。\n",
      "王者冲此时咽下了口水\n",
      "deep dark fantastic\n",
      "               ------van\n",
      "\n"
     ]
    }
   ],
   "source": [
    "html ='''\n",
    "尽管派对热闹非凡，但是全场的蕉点依然是那个自由的男人。\n",
    "王者冲此时咽下了口水\n",
    "deep dark fantastic\n",
    "               ------van\n",
    "'''\n",
    "print(html)\n"
   ]
  },
  {
   "cell_type": "markdown",
   "metadata": {},
   "source": [
    "# 字符串\n",
    "- 转义字符\n",
    "- 格式化\n",
    "- 內建函数\n",
    "- 用一系列特殊的方法表示出一系列不方便写出的内容，比如回车，换行\n",
    "- 借助反斜杠字符，一旦出现字符串出现反斜杠，则反斜杠后面的一个或者几个字符表示已经不是原来的意思了，进行了转义\n",
    "- 在字符串中，一旦出现反斜杠就要加倍小心，可能由转义字符出现\n",
    "- 不同的系统对换行操作有不同的表示\n",
    "      - Windows：\\n\n",
    "      - linux:\\r\\n"
   ]
  },
  {
   "cell_type": "code",
   "execution_count": 42,
   "metadata": {},
   "outputs": [
    {
     "name": "stdout",
     "output_type": "stream",
     "text": [
      "let's go\n",
      "Let's go\n",
      "c:\\user\n",
      "我爱\n",
      "高一涵\n"
     ]
    }
   ],
   "source": [
    "#如果想要表示出let's go\n",
    "#1.可以使用嵌套引号，即外层使用双引号\n",
    "#2.转义字符\n",
    "s = \"let's go\"\n",
    "print(s)\n",
    "#用  \\' 来表示  '\n",
    "ss='Let\\'s go'\n",
    "print(ss)\n",
    "#两个斜杠表示一个真正的斜杠\n",
    "sss=\"c:\\\\user\"\n",
    "print(sss)\n",
    "#回车换行符\n",
    "s1= \"我爱\\r\\n高一涵\"\n",
    "print(s1)"
   ]
  },
  {
   "cell_type": "markdown",
   "metadata": {},
   "source": [
    "## 字符串格式化\n",
    "- 把字符串按照一定格式打印或者填完\n",
    "- 格式化由两种方法\n",
    "     - 利用百分号\n",
    "     - 利用format函数\n",
    "     \n",
    "     - 在字符串中，利用%表示一个特殊的含义，表示对字符串进行格式化\n",
    "     - %d:此处表示放入一个整数\n",
    "     - %s:此处表示应该放入一个字符串"
   ]
  },
  {
   "cell_type": "code",
   "execution_count": 45,
   "metadata": {},
   "outputs": [
    {
     "name": "stdout",
     "output_type": "stream",
     "text": [
      "love %s\n"
     ]
    }
   ],
   "source": [
    "s = \"%s，先生您好，我们吸粉者联盟的社员开始招募人才了”\n",
    "#直接吧%s作为一个字符串的一二内容打印出来\n",
    "example = \"love %s\"\n",
    "print(example)\n",
    "\n"
   ]
  },
  {
   "cell_type": "code",
   "execution_count": 50,
   "metadata": {},
   "outputs": [
    {
     "name": "stdout",
     "output_type": "stream",
     "text": [
      "love 高颜照\n"
     ]
    }
   ],
   "source": [
    "print( example%\"高颜照\")\n",
    "print( s%\"高颜照\")"
   ]
  },
  {
   "cell_type": "code",
   "execution_count": 54,
   "metadata": {},
   "outputs": [
    {
     "name": "stdout",
     "output_type": "stream",
     "text": [
      "I am %d years old\n",
      "I am 22 years old\n"
     ]
    }
   ],
   "source": [
    "s = \"I am %d years old\"\n",
    "print(s)\n",
    "print(s%22)"
   ]
  },
  {
   "cell_type": "markdown",
   "metadata": {},
   "source": [
    "#字符串中如果有占位符，有几个则输出时就要必须用几个实际内容代替或者一个都不要\n",
    "s = \"I am %s,i am %d years old\"\n",
    "print(s)\n",
    "print(s %(\"陈冲\",3))"
   ]
  },
  {
   "cell_type": "markdown",
   "metadata": {},
   "source": [
    "### format函数格式化字符串\n",
    "- 直接用format函数进行格式化\n",
    "- 推荐使用这种方法\n",
    "- 在使用上，以{}和：代替%号，后面用format函数带参数完成"
   ]
  },
  {
   "cell_type": "code",
   "execution_count": 64,
   "metadata": {},
   "outputs": [
    {
     "name": "stdout",
     "output_type": "stream",
     "text": [
      "I love gaoyihan\n",
      "yes,I am 18 years old, i love g1h\n"
     ]
    }
   ],
   "source": [
    "s = \"I love {}\".format(\"gaoyihan\")\n",
    "print(s)\n",
    "s = \"yes,I am {1} years old, i love {0}\".format(\"g1h\",18)\n",
    "print(s)"
   ]
  },
  {
   "cell_type": "markdown",
   "metadata": {},
   "source": [
    "## None\n",
    "- 什么都没有\n",
    "- 如果函数没有返回值，可以返回None\n",
    "- 用来占位置\n",
    "- 用来接触变量的绑定   -----------------------------？？？？？？？"
   ]
  },
  {
   "cell_type": "markdown",
   "metadata": {},
   "source": [
    "# 表达式\n",
    "- 有一个或者几个数字或者变量和运算符组成的一行代码\n",
    "- 通常返回一个结果\n",
    "\n",
    "# 运算符\n",
    "- 由一个以上的值经过变化得到新值的过程就叫运算\n",
    "- 用于运算的符号叫运算符\n",
    "- 运算符的分类\n",
    "     - 算数运算符\n",
    "     - 比较或者关系运算符\n",
    "     - 复制运算符\n",
    "     - 逻辑运算符\n",
    "     - 位运算\n",
    "     - 成员运算\n",
    "     - 身份运算符\n"
   ]
  },
  {
   "cell_type": "markdown",
   "metadata": {},
   "source": [
    "## 算数运算符\n",
    "- 进行算数运算的符号\n",
    "- python没有自增自减运算符"
   ]
  },
  {
   "cell_type": "code",
   "execution_count": 72,
   "metadata": {},
   "outputs": [
    {
     "name": "stdout",
     "output_type": "stream",
     "text": [
      "17\n",
      "30\n",
      "3.3333333333333335\n",
      "1\n",
      "2\n",
      "27\n",
      "94700891172896\n"
     ]
    }
   ],
   "source": [
    "# + -跟正常的运算符一样  乘号用*代替  除号用斜杠 / 代替\n",
    "a = 9+9-1\n",
    "print(a)\n",
    "b = 5*6\n",
    "print(b)\n",
    "# 在2.7和Python3中 除号的结果不一致，此处是3\n",
    "c = 10/3\n",
    "print(c)\n",
    "# %取余运算\n",
    "a = 9%4\n",
    "print(a)\n",
    "#  //表示取整运算，也叫地板除\n",
    "a = 9//4\n",
    "print(a)\n",
    "#  **表示幂运算\n",
    "a = 3**3\n",
    "print(a)\n",
    "print(id(a))"
   ]
  },
  {
   "cell_type": "markdown",
   "metadata": {},
   "source": [
    "## 比较运算符\n",
    " - 对两个变量或者值进行比较的运算符\n",
    " - 比较的结果是布尔值，即True False"
   ]
  },
  {
   "cell_type": "code",
   "execution_count": 76,
   "metadata": {},
   "outputs": [
    {
     "name": "stdout",
     "output_type": "stream",
     "text": [
      "False\n",
      "True\n"
     ]
    }
   ],
   "source": [
    "#比较a是否等于80后把布尔值传入b 。   <   >  <=  >= 四个符号\n",
    "a = 3*4\n",
    "b = a == 80\n",
    "print(b)\n",
    "print(9!=4)"
   ]
  },
  {
   "cell_type": "markdown",
   "metadata": {},
   "source": [
    "## 赋值运算符"
   ]
  },
  {
   "cell_type": "code",
   "execution_count": 78,
   "metadata": {},
   "outputs": [
    {
     "name": "stdout",
     "output_type": "stream",
     "text": [
      "11\n"
     ]
    }
   ],
   "source": [
    "# =等于号\n",
    "a = b\n",
    "c = a =4\n",
    "# +=\n",
    "a += 7   #a = a  + 7的缩写\n",
    "print(a)\n",
    "# -= , *= ,/= ,//=,%=,*=，等都是缩写形式"
   ]
  },
  {
   "cell_type": "markdown",
   "metadata": {},
   "source": [
    "# 逻辑运算符\n",
    "- 对布尔值进行计算的符号\n",
    "- and 逻辑与\n",
    "- or 逻辑或\n",
    "- not 逻辑非\n",
    "- Python中逻辑没有异或运算\n",
    "- 运算规则\n",
    "    - and看做乘法，or看做加法\n",
    "    - True 看做1，Flase 看做0\n",
    "    - 逻辑运算就能转换成整数数学运算\n",
    "    - 最后结果如果是0则为Flase否则为True\n",
    "- 逻辑问题的短路问题\n",
    "    - 逻辑运算式，按照运算顺序计算，一旦能够确定整个式子的值，则不再进行计算，直接返回     ----------这几把老师瞎总结"
   ]
  },
  {
   "cell_type": "code",
   "execution_count": 81,
   "metadata": {},
   "outputs": [
    {
     "name": "stdout",
     "output_type": "stream",
     "text": [
      "True\n"
     ]
    }
   ],
   "source": [
    "a = True\n",
    "b = False\n",
    "c = True\n",
    "d = a and b or c  #等价于1*0+1\n",
    "print(d)"
   ]
  },
  {
   "cell_type": "code",
   "execution_count": null,
   "metadata": {
    "collapsed": true
   },
   "outputs": [],
   "source": [
    "#逻辑运算的短路案例\n",
    "#下面的逻辑表达式，a的至一定是True,则运行到or的时候，整个表达式不再往下计算\n",
    "a = True or xxxxxx\n",
    "\n",
    "#下面表达式，如果xxxxx中包含赋值表达式则结果很难预期\n",
    "#下面是-----伪代码\n",
    "b = 9\n",
    "a = a or （b=9） and 6\n",
    "print(b)\n",
    "print(a)"
   ]
  },
  {
   "cell_type": "markdown",
   "metadata": {},
   "source": [
    "# 成员运算符号\n",
    "- 用来检测一个变量是否是另一个变量的成员\n",
    "- in\n",
    "- not in"
   ]
  },
  {
   "cell_type": "code",
   "execution_count": 7,
   "metadata": {},
   "outputs": [
    {
     "name": "stdout",
     "output_type": "stream",
     "text": [
      "False\n",
      "True\n"
     ]
    }
   ],
   "source": [
    "#案例\n",
    "l = {1.,2,3,4,5}\n",
    "a = 7\n",
    "\n",
    "b = a in l\n",
    "print(b)\n",
    "\n",
    "b = a not in l\n",
    "print(b)"
   ]
  },
  {
   "cell_type": "markdown",
   "metadata": {},
   "source": [
    "## 身份运算\n",
    "- is：用来检测两个变量是否是同一个变量\n",
    "     - 语法是：var1 is var2\n",
    "- is not两个变量不是同一个变量\n"
   ]
  },
  {
   "cell_type": "code",
   "execution_count": 97,
   "metadata": {},
   "outputs": [
    {
     "name": "stdout",
     "output_type": "stream",
     "text": [
      "True\n",
      "False\n"
     ]
    }
   ],
   "source": [
    "a = 9\n",
    "b = 9\n",
    "print(a is b)\n",
    "a = \"I wocaonima\"\n",
    "b = \"I wocaonima\"\n",
    "print(a is b)  #??????????????????????????????????"
   ]
  },
  {
   "cell_type": "markdown",
   "metadata": {},
   "source": [
    "## 运算符的优先级问题\n",
    "- 永远记住，括号具有最高优先级\n",
    "- 优先级表格\n",
    "       \n",
    "            运算符\t         描述\n",
    "            **\t           指数 (最高优先级)\n",
    "            ~ + -\t       按位翻转, 一元加号和减号 (最后两个的方法名为 +@ 和 -@)\n",
    "            * / % //\t   乘，除，取模和取整除\n",
    "            + -\t           加法减法\n",
    "            >> <<\t       右移，左移运算符\n",
    "            &\t           位 'AND'\n",
    "            ^ |\t           位运算符\n",
    "            <= < > >=\t   比较运算符\n",
    "            <> == !=\t   等于运算符\n",
    "            = %= /= //= -= += *= **=\t赋值运算符\n",
    "            is is not\t   身份运算符\n",
    "            in not in\t   成员运算符\n",
    "            not or and\t   逻辑运算符\n",
    "    "
   ]
  },
  {
   "cell_type": "markdown",
   "metadata": {},
   "source": [
    "# 程序结构\n",
    "- 顺序\n",
    "- 分支\n",
    "- 循环"
   ]
  },
  {
   "cell_type": "code",
   "execution_count": 10,
   "metadata": {},
   "outputs": [
    {
     "name": "stdout",
     "output_type": "stream",
     "text": [
      "请输出性别：88\n",
      "B\n"
     ]
    }
   ],
   "source": [
    "score = input(\"请输出性别：\")\n",
    "score = int(score)\n",
    "if score > 90:\n",
    "    print(\"A\")\n",
    "elif score > 80:\n",
    "    print(\"B\")\n",
    "else:\n",
    "    print(\"C\")"
   ]
  }
 ],
 "metadata": {
  "kernelspec": {
   "display_name": "Python 3",
   "language": "python",
   "name": "python3"
  },
  "language_info": {
   "codemirror_mode": {
    "name": "ipython",
    "version": 3
   },
   "file_extension": ".py",
   "mimetype": "text/x-python",
   "name": "python",
   "nbconvert_exporter": "python",
   "pygments_lexer": "ipython3",
   "version": "3.6.3"
  }
 },
 "nbformat": 4,
 "nbformat_minor": 2
}
